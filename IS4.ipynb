{
 "cells": [
  {
   "cell_type": "markdown",
   "metadata": {},
   "source": [
    "# Interactive Session 4\n",
    "This Jupyter notebook is provided as a companion to Interactive Session 4, in order to practice what you have learned, and to present some new class material. It will help you to answer quiz questions included in this Interactive Session, and will give you an opportunity to experiment before answering the questions.\n",
    "\n",
    "Please note that not all queries in the cells of this notebook are supposed to run properly. Some of them will fail and you are expected to find the reason for that."
   ]
  },
  {
   "cell_type": "markdown",
   "metadata": {},
   "source": [
    "## Initial Steps"
   ]
  },
  {
   "cell_type": "markdown",
   "metadata": {},
   "source": [
    "Please run the following few cells before we start. They create the required tables and insert some tuples so that we can start experimenting with them."
   ]
  },
  {
   "cell_type": "code",
   "execution_count": 1,
   "metadata": {},
   "outputs": [],
   "source": [
    "%load_ext sql"
   ]
  },
  {
   "cell_type": "code",
   "execution_count": 2,
   "metadata": {
    "scrolled": false
   },
   "outputs": [],
   "source": [
    "%sql sqlite:///is4.db"
   ]
  },
  {
   "cell_type": "code",
   "execution_count": 3,
   "metadata": {
    "scrolled": false
   },
   "outputs": [
    {
     "name": "stdout",
     "output_type": "stream",
     "text": [
      " * sqlite:///is4.db\n",
      "Done.\n",
      "9 rows affected.\n",
      "Done.\n"
     ]
    },
    {
     "data": {
      "text/html": [
       "<table>\n",
       "    <thead>\n",
       "        <tr>\n",
       "            <th>sid</th>\n",
       "            <th>name</th>\n",
       "            <th>school</th>\n",
       "            <th>age</th>\n",
       "            <th>gpa</th>\n",
       "        </tr>\n",
       "    </thead>\n",
       "    <tbody>\n",
       "        <tr>\n",
       "            <td>1001</td>\n",
       "            <td>Aadm</td>\n",
       "            <td>SFU</td>\n",
       "            <td>23</td>\n",
       "            <td>3.2</td>\n",
       "        </tr>\n",
       "        <tr>\n",
       "            <td>1002</td>\n",
       "            <td>Aiden</td>\n",
       "            <td>UBC</td>\n",
       "            <td>19</td>\n",
       "            <td>3.5</td>\n",
       "        </tr>\n",
       "        <tr>\n",
       "            <td>1003</td>\n",
       "            <td>Alice</td>\n",
       "            <td>SFU</td>\n",
       "            <td>18</td>\n",
       "            <td>3.7</td>\n",
       "        </tr>\n",
       "        <tr>\n",
       "            <td>1004</td>\n",
       "            <td>Bob</td>\n",
       "            <td>UBC</td>\n",
       "            <td>22</td>\n",
       "            <td>3.1</td>\n",
       "        </tr>\n",
       "        <tr>\n",
       "            <td>1005</td>\n",
       "            <td>David</td>\n",
       "            <td>SFU</td>\n",
       "            <td>20</td>\n",
       "            <td>3.2</td>\n",
       "        </tr>\n",
       "        <tr>\n",
       "            <td>1006</td>\n",
       "            <td>John</td>\n",
       "            <td>SFU</td>\n",
       "            <td>21</td>\n",
       "            <td>3.1</td>\n",
       "        </tr>\n",
       "        <tr>\n",
       "            <td>1007</td>\n",
       "            <td>Mary</td>\n",
       "            <td>UBC</td>\n",
       "            <td>21</td>\n",
       "            <td>3.4</td>\n",
       "        </tr>\n",
       "        <tr>\n",
       "            <td>1008</td>\n",
       "            <td>Mike</td>\n",
       "            <td>SFU</td>\n",
       "            <td>24</td>\n",
       "            <td>3.1</td>\n",
       "        </tr>\n",
       "        <tr>\n",
       "            <td>1009</td>\n",
       "            <td>Sarah</td>\n",
       "            <td>UBC</td>\n",
       "            <td>18</td>\n",
       "            <td>3.0</td>\n",
       "        </tr>\n",
       "    </tbody>\n",
       "</table>"
      ],
      "text/plain": [
       "[('1001', 'Aadm', 'SFU', 23, 3.2),\n",
       " ('1002', 'Aiden', 'UBC', 19, 3.5),\n",
       " ('1003', 'Alice', 'SFU', 18, 3.7),\n",
       " ('1004', 'Bob', 'UBC', 22, 3.1),\n",
       " ('1005', 'David', 'SFU', 20, 3.2),\n",
       " ('1006', 'John', 'SFU', 21, 3.1),\n",
       " ('1007', 'Mary', 'UBC', 21, 3.4),\n",
       " ('1008', 'Mike', 'SFU', 24, 3.1),\n",
       " ('1009', 'Sarah', 'UBC', 18, 3.0)]"
      ]
     },
     "execution_count": 3,
     "metadata": {},
     "output_type": "execute_result"
    }
   ],
   "source": [
    "%%sql\n",
    "CREATE TABLE Students (\n",
    "    sid CHAR(11),\n",
    "    name CHAR(20) NOT NULL,\n",
    "    school CHAR(10),\n",
    "    age INTEGER,\n",
    "    gpa REAL,\n",
    "    PRIMARY KEY (sid)\n",
    ");\n",
    "\n",
    "INSERT INTO students(sid, name, school, age, gpa)\n",
    "VALUES  ('1001', 'Aadm', 'SFU', 23, 3.2),\n",
    "        ('1002', 'Aiden', 'UBC', 19, 3.5),\n",
    "        ('1003', 'Alice', 'SFU', 18, 3.7),\n",
    "        ('1004', 'Bob', 'UBC', 22, 3.1),\n",
    "        ('1005', 'David', 'SFU', 20, 3.2),\n",
    "        ('1006', 'John', 'SFU', 21, 3.1),\n",
    "        ('1007', 'Mary', 'UBC', 21, 3.4),\n",
    "        ('1008', 'Mike', 'SFU', 24, 3.1),\n",
    "        ('1009', 'Sarah', 'UBC', 18, 3.0);\n",
    "\n",
    "SELECT * FROM students;"
   ]
  },
  {
   "cell_type": "code",
   "execution_count": 4,
   "metadata": {},
   "outputs": [
    {
     "name": "stdout",
     "output_type": "stream",
     "text": [
      " * sqlite:///is4.db\n",
      "Done.\n",
      "8 rows affected.\n",
      "Done.\n"
     ]
    },
    {
     "data": {
      "text/html": [
       "<table>\n",
       "    <thead>\n",
       "        <tr>\n",
       "            <th>stid</th>\n",
       "            <th>cid</th>\n",
       "            <th>grade</th>\n",
       "        </tr>\n",
       "    </thead>\n",
       "    <tbody>\n",
       "        <tr>\n",
       "            <td>1001</td>\n",
       "            <td>200</td>\n",
       "            <td>A</td>\n",
       "        </tr>\n",
       "        <tr>\n",
       "            <td>1001</td>\n",
       "            <td>295</td>\n",
       "            <td>A</td>\n",
       "        </tr>\n",
       "        <tr>\n",
       "            <td>1001</td>\n",
       "            <td>250</td>\n",
       "            <td>B+</td>\n",
       "        </tr>\n",
       "        <tr>\n",
       "            <td>1002</td>\n",
       "            <td>130</td>\n",
       "            <td>A</td>\n",
       "        </tr>\n",
       "        <tr>\n",
       "            <td>1002</td>\n",
       "            <td>125</td>\n",
       "            <td>A+</td>\n",
       "        </tr>\n",
       "        <tr>\n",
       "            <td>1003</td>\n",
       "            <td>120</td>\n",
       "            <td>A</td>\n",
       "        </tr>\n",
       "        <tr>\n",
       "            <td>1003</td>\n",
       "            <td>125</td>\n",
       "            <td>B</td>\n",
       "        </tr>\n",
       "        <tr>\n",
       "            <td>1003</td>\n",
       "            <td>150</td>\n",
       "            <td>A</td>\n",
       "        </tr>\n",
       "    </tbody>\n",
       "</table>"
      ],
      "text/plain": [
       "[('1001', '200', 'A'),\n",
       " ('1001', '295', 'A'),\n",
       " ('1001', '250', 'B+'),\n",
       " ('1002', '130', 'A'),\n",
       " ('1002', '125', 'A+'),\n",
       " ('1003', '120', 'A'),\n",
       " ('1003', '125', 'B'),\n",
       " ('1003', '150', 'A')]"
      ]
     },
     "execution_count": 4,
     "metadata": {},
     "output_type": "execute_result"
    }
   ],
   "source": [
    "%%sql\n",
    "CREATE TABLE Enrolled(\n",
    "    stid CHAR(20),\n",
    "    cid CHAR(20),\n",
    "    grade CHAR(5),\n",
    "    PRIMARY KEY (stid, cid),\n",
    "    FOREIGN KEY (stid) REFERENCES Students(sid)\n",
    ");\n",
    "\n",
    "INSERT INTO Enrolled(stid, cid, grade)\n",
    "VALUES  ('1001', '200','A'),\n",
    "        ('1001', '295','A'),\n",
    "        ('1001', '250','B+'),\n",
    "        ('1002', '130','A'),\n",
    "        ('1002', '125','A+'),\n",
    "        ('1003', '120','A'),\n",
    "        ('1003', '125','B'),\n",
    "        ('1003', '150','A');\n",
    "\n",
    "SELECT * FROM Enrolled;"
   ]
  },
  {
   "cell_type": "code",
   "execution_count": 5,
   "metadata": {},
   "outputs": [
    {
     "name": "stdout",
     "output_type": "stream",
     "text": [
      " * sqlite:///is4.db\n",
      "(sqlite3.OperationalError) table Movies already exists\n",
      "[SQL: CREATE TABLE Movies(\n",
      "    title        CHAR(100),\n",
      "    year         INT,\n",
      "    length       INT,\n",
      "    genre        CHAR(10),\n",
      "    studioName   CHAR(30),\n",
      "    producerCNum INT,\n",
      "    PRIMARY KEY  (title, year)\n",
      ");]\n",
      "(Background on this error at: https://sqlalche.me/e/20/e3q8)\n"
     ]
    }
   ],
   "source": [
    "%%sql\n",
    "CREATE TABLE Movies(\n",
    "    title        CHAR(100),\n",
    "    year         INT,\n",
    "    length       INT,\n",
    "    genre        CHAR(10),\n",
    "    studioName   CHAR(30),\n",
    "    producerCNum INT,\n",
    "    PRIMARY KEY  (title, year)\n",
    ");"
   ]
  },
  {
   "cell_type": "code",
   "execution_count": 6,
   "metadata": {},
   "outputs": [
    {
     "name": "stdout",
     "output_type": "stream",
     "text": [
      " * sqlite:///is4.db\n",
      "Done.\n"
     ]
    },
    {
     "data": {
      "text/plain": [
       "[]"
      ]
     },
     "execution_count": 6,
     "metadata": {},
     "output_type": "execute_result"
    }
   ],
   "source": [
    "%%sql\n",
    "CREATE TABLE StarsIn(\n",
    "       movieTitle CHAR(100), \n",
    "       movieYear  INT, \n",
    "       starName   CHAR(100)\n",
    ");  "
   ]
  },
  {
   "cell_type": "code",
   "execution_count": 7,
   "metadata": {},
   "outputs": [
    {
     "name": "stdout",
     "output_type": "stream",
     "text": [
      " * sqlite:///is4.db\n",
      "Done.\n"
     ]
    },
    {
     "data": {
      "text/plain": [
       "[]"
      ]
     },
     "execution_count": 7,
     "metadata": {},
     "output_type": "execute_result"
    }
   ],
   "source": [
    "%%sql\n",
    "CREATE TABLE MovieExec(\n",
    "       name  CHAR(100), \n",
    "       address CHAR(100), \n",
    "       certNum INT, \n",
    "       netWorth INT\n",
    ");"
   ]
  },
  {
   "cell_type": "markdown",
   "metadata": {},
   "source": [
    "## Subqueries"
   ]
  },
  {
   "cell_type": "markdown",
   "metadata": {},
   "source": [
    "### WHERE Clause Subqueries"
   ]
  },
  {
   "cell_type": "code",
   "execution_count": 3,
   "metadata": {},
   "outputs": [
    {
     "name": "stdout",
     "output_type": "stream",
     "text": [
      " * sqlite:///is4.db\n",
      "Done.\n"
     ]
    },
    {
     "data": {
      "text/html": [
       "<table>\n",
       "    <thead>\n",
       "        <tr>\n",
       "            <th>name</th>\n",
       "        </tr>\n",
       "    </thead>\n",
       "    <tbody>\n",
       "    </tbody>\n",
       "</table>"
      ],
      "text/plain": [
       "[]"
      ]
     },
     "execution_count": 3,
     "metadata": {},
     "output_type": "execute_result"
    }
   ],
   "source": [
    "%%sql\n",
    "SELECT name \n",
    "FROM MovieExec \n",
    "WHERE certNum =\n",
    "    ( SELECT producerCNum\n",
    "      FROM Movies\n",
    "      WHERE title = 'Star Wars' \n",
    "    );"
   ]
  },
  {
   "cell_type": "code",
   "execution_count": 4,
   "metadata": {},
   "outputs": [
    {
     "name": "stdout",
     "output_type": "stream",
     "text": [
      " * sqlite:///is4.db\n",
      "Done.\n"
     ]
    },
    {
     "data": {
      "text/html": [
       "<table>\n",
       "    <thead>\n",
       "        <tr>\n",
       "            <th>name</th>\n",
       "        </tr>\n",
       "    </thead>\n",
       "    <tbody>\n",
       "    </tbody>\n",
       "</table>"
      ],
      "text/plain": [
       "[]"
      ]
     },
     "execution_count": 4,
     "metadata": {},
     "output_type": "execute_result"
    }
   ],
   "source": [
    "%%sql\n",
    "SELECT name \n",
    "FROM MovieExec \n",
    "WHERE certNum IN \n",
    "    (   SELECT producerCNum\n",
    "        FROM Movies\n",
    "        WHERE (title, year) IN \n",
    "        (\n",
    "            SELECT movieTitle, movieYear \n",
    "            FROM StarsIn\n",
    "            WHERE starName = 'Harrison Ford'\n",
    "        ) \n",
    "    ); "
   ]
  },
  {
   "cell_type": "markdown",
   "metadata": {},
   "source": [
    "The following subquery does not work. Try to figure out what it is trying to do, and what is the reason it did not run. Can you rewrite it to make it work? "
   ]
  },
  {
   "cell_type": "code",
   "execution_count": null,
   "metadata": {},
   "outputs": [],
   "source": [
    "%%sql\n",
    "SELECT title \n",
    "FROM Movies Old \n",
    "WHERE year > ANY \n",
    "    (    SELECT year\n",
    "         FROM Movies\n",
    "         WHERE title = Old.title \n",
    "    );"
   ]
  },
  {
   "cell_type": "markdown",
   "metadata": {},
   "source": [
    "The answer is as follows (using MIN to rewrite and eliminate the use of using ANY). The reason the previous query did not run was the usage of ANY which is not supported in SQLite."
   ]
  },
  {
   "cell_type": "code",
   "execution_count": null,
   "metadata": {},
   "outputs": [],
   "source": [
    "%%sql\n",
    "SELECT Old.title \n",
    "FROM Movies Old \n",
    "WHERE year >\n",
    "    (    SELECT MIN(year)\n",
    "         FROM Movies M2\n",
    "         WHERE title = Old.title \n",
    "    );"
   ]
  },
  {
   "cell_type": "markdown",
   "metadata": {},
   "source": [
    "### FROM Clause Subqueries"
   ]
  },
  {
   "cell_type": "code",
   "execution_count": null,
   "metadata": {},
   "outputs": [],
   "source": [
    "%%sql\n",
    "SELECT name\n",
    "FROM MovieExec, \n",
    "    (    SELECT producerCNum\n",
    "         FROM Movies, StarsIn\n",
    "         WHERE title = movieTitle AND\n",
    "         year = movieYear AND starName = 'Harrison Ford' \n",
    "    ) Prod \n",
    "WHERE certNum=Prod.producerCNum;"
   ]
  },
  {
   "cell_type": "markdown",
   "metadata": {},
   "source": [
    "### HAVING Clause Subqueries"
   ]
  },
  {
   "cell_type": "code",
   "execution_count": null,
   "metadata": {},
   "outputs": [],
   "source": [
    "%%sql\n",
    "SELECT AVG(gpa), age\n",
    "FROM Students \n",
    "WHERE gpa > 2.5\n",
    "GROUP BY age\n",
    "HAVING gpa >= (SELECT AVG(gpa) FROM Students);"
   ]
  },
  {
   "cell_type": "markdown",
   "metadata": {},
   "source": [
    "## Constraint, Check, Assertion\n",
    "What do you think about the next query?"
   ]
  },
  {
   "cell_type": "code",
   "execution_count": null,
   "metadata": {},
   "outputs": [],
   "source": [
    "%%sql\n",
    "DROP TABLE MovieStar;"
   ]
  },
  {
   "cell_type": "code",
   "execution_count": null,
   "metadata": {},
   "outputs": [],
   "source": [
    "%%sql\n",
    "CREATE TABLE MovieStar ( \n",
    "    name      CHAR(30) PRIMARY KEY, \n",
    "    lastname  CHAR(30) UNIQUE,\n",
    "    address   VARCHAR(255) NOT NULL, \n",
    "    gender    CHAR(1),\n",
    "    birthdate DATE, \n",
    "    CHECK (gender ='F' OR gender='M')\n",
    "  );"
   ]
  },
  {
   "cell_type": "markdown",
   "metadata": {},
   "source": [
    "Try different insertions below:"
   ]
  },
  {
   "cell_type": "code",
   "execution_count": null,
   "metadata": {},
   "outputs": [],
   "source": [
    "%%sql\n",
    "INSERT INTO MovieStar(name, lastname, address, gender, birthdate)\n",
    "VALUES  ('Adam', 'Smith', '123 ABC Street', 'M', 1999-01-01)"
   ]
  },
  {
   "cell_type": "markdown",
   "metadata": {},
   "source": [
    "Why each of the following inserts are being rejected?"
   ]
  },
  {
   "cell_type": "code",
   "execution_count": null,
   "metadata": {},
   "outputs": [],
   "source": [
    "%%sql\n",
    "INSERT INTO MovieStar(name, lastname, gender, birthdate)\n",
    "VALUES  ('Mike', 'Moore','M', 1999-01-01)"
   ]
  },
  {
   "cell_type": "code",
   "execution_count": null,
   "metadata": {},
   "outputs": [],
   "source": [
    "%%sql\n",
    "INSERT INTO MovieStar(name, lastname, address, gender, birthdate)\n",
    "VALUES  ('Michael', 'Smith', '123 ABC Street', 'F', 1999-01-01)"
   ]
  },
  {
   "cell_type": "code",
   "execution_count": null,
   "metadata": {},
   "outputs": [],
   "source": [
    "%%sql\n",
    "INSERT INTO MovieStar(name, lastname, address, gender, birthdate)\n",
    "VALUES  ('Michael', 'ABC', '123 ABC Street', 'A', 1999-01-01)"
   ]
  },
  {
   "cell_type": "markdown",
   "metadata": {},
   "source": [
    "Now, let's create the same condition using assertions."
   ]
  },
  {
   "cell_type": "code",
   "execution_count": null,
   "metadata": {},
   "outputs": [],
   "source": [
    "%%sql\n",
    "DROP TABLE MovieStar;"
   ]
  },
  {
   "cell_type": "code",
   "execution_count": null,
   "metadata": {},
   "outputs": [],
   "source": [
    "%%sql\n",
    "CREATE TABLE MovieStar ( \n",
    "    name      CHAR(30) PRIMARY KEY, \n",
    "    lastname  CHAR(30) UNIQUE,\n",
    "    address   VARCHAR(255) NOT NULL, \n",
    "    gender    CHAR(1),\n",
    "    birthdate DATE, \n",
    "    ASSERTION MovieStarCheck CHECK (gender ='F' OR gender='M')\n",
    "  );"
   ]
  },
  {
   "cell_type": "code",
   "execution_count": null,
   "metadata": {},
   "outputs": [],
   "source": [
    "%%sql\n",
    "DROP TABLE MovieStar;"
   ]
  },
  {
   "cell_type": "code",
   "execution_count": null,
   "metadata": {},
   "outputs": [],
   "source": [
    "%%sql\n",
    "CREATE TABLE MovieStar ( \n",
    "    name      CHAR(30) PRIMARY KEY, \n",
    "    lastname  CHAR(30) UNIQUE,\n",
    "    address   VARCHAR(255) NOT NULL, \n",
    "    gender    CHAR(1),\n",
    "    length    INT, \n",
    "    CONSTRAINT MovieStarCheck CHECK (gender ='F' OR gender='M')\n",
    "  );"
   ]
  },
  {
   "cell_type": "markdown",
   "metadata": {},
   "source": [
    "Why does the following assertion fail?"
   ]
  },
  {
   "cell_type": "code",
   "execution_count": null,
   "metadata": {},
   "outputs": [],
   "source": [
    "%%sql\n",
    "DROP TABLE Movies;"
   ]
  },
  {
   "cell_type": "code",
   "execution_count": null,
   "metadata": {},
   "outputs": [],
   "source": [
    "%%sql\n",
    "CREATE TABLE Movies(\n",
    "    title        CHAR(100),\n",
    "    year         INT,\n",
    "    length       INT,\n",
    "    genre        CHAR(10),\n",
    "    studioName   CHAR(30),\n",
    "    producerCNum INT,\n",
    "    ASSERTION SumLength CHECK (10000 >= \n",
    "             (SELECT SUM(length) \n",
    "              FROM Movies )), \n",
    "    PRIMARY KEY  (title, year)\n",
    ");"
   ]
  },
  {
   "cell_type": "markdown",
   "metadata": {},
   "source": [
    "**Note:** SQLite does not support subqueries in assertions as well as altering tables after creation. Either of these restrictions have an effect on constraints and triggers. "
   ]
  },
  {
   "cell_type": "markdown",
   "metadata": {},
   "source": [
    "## Triggers\n",
    "Note that the trigger syntax in SQLite is a bit different. You can find out more about it [here](https://www.sqlitetutorial.net/sqlite-trigger/)."
   ]
  },
  {
   "cell_type": "code",
   "execution_count": null,
   "metadata": {},
   "outputs": [],
   "source": [
    "%%sql\n",
    "CREATE TRIGGER NetWorthTrigger\n",
    "AFTER UPDATE OF netWorth ON MovieExec \n",
    "WHEN (old.netWorth > new.netWorth) \n",
    "    BEGIN\n",
    "    UPDATE MovieExec SET netWorth = old.netWorth\n",
    "    WHERE certNum = old.certNum; \n",
    "    END;\n"
   ]
  },
  {
   "cell_type": "markdown",
   "metadata": {},
   "source": [
    "To detele the trigger, you can use 'DROP TRIGGER':"
   ]
  },
  {
   "cell_type": "code",
   "execution_count": null,
   "metadata": {},
   "outputs": [],
   "source": [
    "%%sql\n",
    "DROP TRIGGER NetWorthTrigger;"
   ]
  },
  {
   "cell_type": "markdown",
   "metadata": {},
   "source": [
    "### Clean up Steps"
   ]
  },
  {
   "cell_type": "code",
   "execution_count": null,
   "metadata": {},
   "outputs": [],
   "source": [
    "%%sql\n",
    "DROP TABLE Enrolled;\n",
    "DROP TABLE Students;\n",
    "DROP TABLE Movies;\n",
    "DROP TABLE MovieStar;\n",
    "DROP TABLE MovieExec;\n",
    "DROP TABLE StarsIn;"
   ]
  },
  {
   "cell_type": "code",
   "execution_count": null,
   "metadata": {},
   "outputs": [],
   "source": []
  }
 ],
 "metadata": {
  "kernelspec": {
   "display_name": "Python 3 (ipykernel)",
   "language": "python",
   "name": "python3"
  },
  "language_info": {
   "codemirror_mode": {
    "name": "ipython",
    "version": 3
   },
   "file_extension": ".py",
   "mimetype": "text/x-python",
   "name": "python",
   "nbconvert_exporter": "python",
   "pygments_lexer": "ipython3",
   "version": "3.11.5"
  }
 },
 "nbformat": 4,
 "nbformat_minor": 2
}
